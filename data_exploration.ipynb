{
 "cells": [
  {
   "cell_type": "code",
   "execution_count": 63,
   "id": "39e8a0cd",
   "metadata": {},
   "outputs": [],
   "source": [
    "# Paths\n",
    "db_path = \"/home/aelzemity/metalBindPredict/db/uniprot_data\"\n",
    "scripts_path = \"/home/aelzemity/metalBindPredict/scripts\""
   ]
  },
  {
   "cell_type": "code",
   "execution_count": 64,
   "id": "1293b230",
   "metadata": {},
   "outputs": [],
   "source": [
    "# Dependencies\n",
    "import os\n",
    "import pandas as pd\n",
    "import matplotlib as plt\n",
    "import numpy as np\n",
    "import sys\n",
    "import gtfparse\n",
    "import seaborn as sns\n",
    "sns.set(rc={'figure.figsize':(11.7,8.27)})"
   ]
  },
  {
   "cell_type": "code",
   "execution_count": 65,
   "id": "3ba8aafa",
   "metadata": {},
   "outputs": [
    {
     "name": "stdout",
     "output_type": "stream",
     "text": [
      "ChEBI-IDs_for_metal_binding.tsv  POS_TRAIN_FULL.fasta  test-dataset.fasta\r\n",
      "NEG_TRAIN.fasta\t\t\t POS_TRAIN_FULL.tsv    test.txt\r\n",
      "POS_TRAIN.fasta\t\t\t POS_TRAIN.tsv\r\n"
     ]
    }
   ],
   "source": [
    "os.chdir(db_path)\n",
    "!ls"
   ]
  },
  {
   "cell_type": "code",
   "execution_count": 66,
   "id": "a58bbe1e",
   "metadata": {},
   "outputs": [],
   "source": [
    "# function to read fasta files into dataframes\n",
    "import pandas as pd\n",
    "def read_fasta(file_name,file_path, columns) :\n",
    "    from Bio.SeqIO.FastaIO import SimpleFastaParser \n",
    "    with open(file_name) as fasta_file:  \n",
    "        records = [] # create empty list\n",
    "        for title, sequence in SimpleFastaParser(fasta_file): #SimpleFastaParser Iterate over Fasta records as string tuples. For each record a tuple of two strings is returned, the FASTA title line (without the leading ‘>’ character), and the sequence (with any whitespace removed). \n",
    "            record = []\n",
    "            title_splits=title.split('|') # Data cleaning is needed\n",
    "            #print(title_splits)\n",
    "                 \n",
    "            \n",
    "            record.append(title_splits[1])  #First values are ID (Append adds element to a list)\n",
    "            record.append(len(sequence)) #Second values are sequences lengths\n",
    "            record.append(title_splits[2]) #It converts into one line\n",
    "            record.append(sequence)#Third values are sequences\n",
    "            records.append(record)\n",
    "    return pd.DataFrame(records, columns = columns) #We have created a function that returns a dataframe"
   ]
  },
  {
   "cell_type": "code",
   "execution_count": 67,
   "id": "3a2f00b0",
   "metadata": {},
   "outputs": [
    {
     "data": {
      "text/html": [
       "<div>\n",
       "<style scoped>\n",
       "    .dataframe tbody tr th:only-of-type {\n",
       "        vertical-align: middle;\n",
       "    }\n",
       "\n",
       "    .dataframe tbody tr th {\n",
       "        vertical-align: top;\n",
       "    }\n",
       "\n",
       "    .dataframe thead th {\n",
       "        text-align: right;\n",
       "    }\n",
       "</style>\n",
       "<table border=\"1\" class=\"dataframe\">\n",
       "  <thead>\n",
       "    <tr style=\"text-align: right;\">\n",
       "      <th></th>\n",
       "      <th>id</th>\n",
       "      <th>seq_length</th>\n",
       "      <th>info</th>\n",
       "      <th>sequence</th>\n",
       "    </tr>\n",
       "  </thead>\n",
       "  <tbody>\n",
       "    <tr>\n",
       "      <th>0</th>\n",
       "      <td>A0A023GPI8</td>\n",
       "      <td>237</td>\n",
       "      <td>LECA_CANBL Lectin alpha chain OS=Canavalia bol...</td>\n",
       "      <td>ADTIVAVELDTYPNTDIGDPSYPHIGIDIKSVRSKKTAKWNMQNGK...</td>\n",
       "    </tr>\n",
       "    <tr>\n",
       "      <th>1</th>\n",
       "      <td>A0A067XG71</td>\n",
       "      <td>237</td>\n",
       "      <td>LECA_CANGR Lectin ConGF OS=Canavalia grandiflo...</td>\n",
       "      <td>ADTIVAVELDTYPNTDIGDPNYPHIGIDIKSIRSKKIAKWNMQDGK...</td>\n",
       "    </tr>\n",
       "    <tr>\n",
       "      <th>2</th>\n",
       "      <td>A0A084JZF2</td>\n",
       "      <td>303</td>\n",
       "      <td>UL28B_NONUL Ulvan lyase NLR48 OS=Nonlabens ulv...</td>\n",
       "      <td>MRKLKYNTTRVILMIAFISLSACSSEDAMIEEEQVIPDPDPVAQTD...</td>\n",
       "    </tr>\n",
       "    <tr>\n",
       "      <th>3</th>\n",
       "      <td>A0A096P8D3</td>\n",
       "      <td>470</td>\n",
       "      <td>IDH_OSTTA Isocitrate dehydrogenase (NAD(+)), m...</td>\n",
       "      <td>MTRVERGRVLARAIERAVAHRASARRWTTTTRTPAWMVTGWMGGRG...</td>\n",
       "    </tr>\n",
       "    <tr>\n",
       "      <th>4</th>\n",
       "      <td>A0A0D4WV12</td>\n",
       "      <td>279</td>\n",
       "      <td>BIB11_SICTE Dermonecrotic toxin StSicTox-betaI...</td>\n",
       "      <td>GDSRRPIWNIAHMVNDLDLVDEYLDDGANSLELDVEFSKSGTALRT...</td>\n",
       "    </tr>\n",
       "  </tbody>\n",
       "</table>\n",
       "</div>"
      ],
      "text/plain": [
       "           id  seq_length                                               info  \\\n",
       "0  A0A023GPI8         237  LECA_CANBL Lectin alpha chain OS=Canavalia bol...   \n",
       "1  A0A067XG71         237  LECA_CANGR Lectin ConGF OS=Canavalia grandiflo...   \n",
       "2  A0A084JZF2         303  UL28B_NONUL Ulvan lyase NLR48 OS=Nonlabens ulv...   \n",
       "3  A0A096P8D3         470  IDH_OSTTA Isocitrate dehydrogenase (NAD(+)), m...   \n",
       "4  A0A0D4WV12         279  BIB11_SICTE Dermonecrotic toxin StSicTox-betaI...   \n",
       "\n",
       "                                            sequence  \n",
       "0  ADTIVAVELDTYPNTDIGDPSYPHIGIDIKSVRSKKTAKWNMQNGK...  \n",
       "1  ADTIVAVELDTYPNTDIGDPNYPHIGIDIKSIRSKKIAKWNMQDGK...  \n",
       "2  MRKLKYNTTRVILMIAFISLSACSSEDAMIEEEQVIPDPDPVAQTD...  \n",
       "3  MTRVERGRVLARAIERAVAHRASARRWTTTTRTPAWMVTGWMGGRG...  \n",
       "4  GDSRRPIWNIAHMVNDLDLVDEYLDDGANSLELDVEFSKSGTALRT...  "
      ]
     },
     "execution_count": 67,
     "metadata": {},
     "output_type": "execute_result"
    }
   ],
   "source": [
    "# exploring pos train fasta file\n",
    "pos_train_fasta = read_fasta(\"POS_TRAIN.fasta\",db_path, columns=[\"id\",\"seq_length\",\"info\", \"sequence\"])\n",
    "pos_train_fasta.head()"
   ]
  },
  {
   "cell_type": "code",
   "execution_count": 68,
   "id": "05dfffa1",
   "metadata": {},
   "outputs": [
    {
     "data": {
      "text/html": [
       "<div>\n",
       "<style scoped>\n",
       "    .dataframe tbody tr th:only-of-type {\n",
       "        vertical-align: middle;\n",
       "    }\n",
       "\n",
       "    .dataframe tbody tr th {\n",
       "        vertical-align: top;\n",
       "    }\n",
       "\n",
       "    .dataframe thead th {\n",
       "        text-align: right;\n",
       "    }\n",
       "</style>\n",
       "<table border=\"1\" class=\"dataframe\">\n",
       "  <thead>\n",
       "    <tr style=\"text-align: right;\">\n",
       "      <th></th>\n",
       "      <th>Accession</th>\n",
       "      <th>Evidence</th>\n",
       "      <th>ChEBI-ID</th>\n",
       "      <th>Position</th>\n",
       "    </tr>\n",
       "  </thead>\n",
       "  <tbody>\n",
       "    <tr>\n",
       "      <th>0</th>\n",
       "      <td>Q8INK9</td>\n",
       "      <td>ECO:0000269</td>\n",
       "      <td>CHEBI:29105</td>\n",
       "      <td>157</td>\n",
       "    </tr>\n",
       "    <tr>\n",
       "      <th>1</th>\n",
       "      <td>Q8INK9</td>\n",
       "      <td>ECO:0000269</td>\n",
       "      <td>CHEBI:29105</td>\n",
       "      <td>96</td>\n",
       "    </tr>\n",
       "    <tr>\n",
       "      <th>2</th>\n",
       "      <td>Q1QT89</td>\n",
       "      <td>ECO:0000269</td>\n",
       "      <td>CHEBI:18420</td>\n",
       "      <td>263</td>\n",
       "    </tr>\n",
       "    <tr>\n",
       "      <th>3</th>\n",
       "      <td>P07327</td>\n",
       "      <td>ECO:0000269</td>\n",
       "      <td>CHEBI:29105</td>\n",
       "      <td>101</td>\n",
       "    </tr>\n",
       "    <tr>\n",
       "      <th>4</th>\n",
       "      <td>P07327</td>\n",
       "      <td>ECO:0007744</td>\n",
       "      <td>CHEBI:29105</td>\n",
       "      <td>104</td>\n",
       "    </tr>\n",
       "  </tbody>\n",
       "</table>\n",
       "</div>"
      ],
      "text/plain": [
       "  Accession     Evidence     ChEBI-ID  Position\n",
       "0    Q8INK9  ECO:0000269  CHEBI:29105       157\n",
       "1    Q8INK9  ECO:0000269  CHEBI:29105        96\n",
       "2    Q1QT89  ECO:0000269  CHEBI:18420       263\n",
       "3    P07327  ECO:0000269  CHEBI:29105       101\n",
       "4    P07327  ECO:0007744  CHEBI:29105       104"
      ]
     },
     "execution_count": 68,
     "metadata": {},
     "output_type": "execute_result"
    }
   ],
   "source": [
    "pos_train_tsv = pd.read_csv(db_path+'/POS_TRAIN.tsv', sep='\\t', header=0)\n",
    "pos_train_tsv.head()"
   ]
  },
  {
   "cell_type": "code",
   "execution_count": 69,
   "id": "92fe44b4",
   "metadata": {},
   "outputs": [
    {
     "name": "stdout",
     "output_type": "stream",
     "text": [
      "<class 'pandas.core.frame.DataFrame'>\n",
      "RangeIndex: 18043 entries, 0 to 18042\n",
      "Data columns (total 4 columns):\n",
      " #   Column     Non-Null Count  Dtype \n",
      "---  ------     --------------  ----- \n",
      " 0   Accession  18043 non-null  object\n",
      " 1   Evidence   18043 non-null  object\n",
      " 2   ChEBI-ID   18043 non-null  object\n",
      " 3   Position   18043 non-null  int64 \n",
      "dtypes: int64(1), object(3)\n",
      "memory usage: 564.0+ KB\n"
     ]
    }
   ],
   "source": [
    "pos_train_tsv.info()"
   ]
  },
  {
   "cell_type": "code",
   "execution_count": 70,
   "id": "78e2e042",
   "metadata": {},
   "outputs": [
    {
     "data": {
      "text/html": [
       "<div>\n",
       "<style scoped>\n",
       "    .dataframe tbody tr th:only-of-type {\n",
       "        vertical-align: middle;\n",
       "    }\n",
       "\n",
       "    .dataframe tbody tr th {\n",
       "        vertical-align: top;\n",
       "    }\n",
       "\n",
       "    .dataframe thead th {\n",
       "        text-align: right;\n",
       "    }\n",
       "</style>\n",
       "<table border=\"1\" class=\"dataframe\">\n",
       "  <thead>\n",
       "    <tr style=\"text-align: right;\">\n",
       "      <th></th>\n",
       "      <th>id</th>\n",
       "      <th>ChEBI-ID</th>\n",
       "      <th>Position</th>\n",
       "      <th>sequence</th>\n",
       "    </tr>\n",
       "  </thead>\n",
       "  <tbody>\n",
       "    <tr>\n",
       "      <th>0</th>\n",
       "      <td>Q8INK9</td>\n",
       "      <td>CHEBI:29105</td>\n",
       "      <td>157</td>\n",
       "      <td>MFALSARHALRRTRIFAIPRFFADSRQDSDNPDKRYSGPAATMDNK...</td>\n",
       "    </tr>\n",
       "    <tr>\n",
       "      <th>1</th>\n",
       "      <td>Q8INK9</td>\n",
       "      <td>CHEBI:29105</td>\n",
       "      <td>96</td>\n",
       "      <td>MFALSARHALRRTRIFAIPRFFADSRQDSDNPDKRYSGPAATMDNK...</td>\n",
       "    </tr>\n",
       "    <tr>\n",
       "      <th>2</th>\n",
       "      <td>Q8INK9</td>\n",
       "      <td>CHEBI:29105</td>\n",
       "      <td>93</td>\n",
       "      <td>MFALSARHALRRTRIFAIPRFFADSRQDSDNPDKRYSGPAATMDNK...</td>\n",
       "    </tr>\n",
       "    <tr>\n",
       "      <th>3</th>\n",
       "      <td>Q8INK9</td>\n",
       "      <td>CHEBI:29105</td>\n",
       "      <td>154</td>\n",
       "      <td>MFALSARHALRRTRIFAIPRFFADSRQDSDNPDKRYSGPAATMDNK...</td>\n",
       "    </tr>\n",
       "    <tr>\n",
       "      <th>4</th>\n",
       "      <td>Q1QT89</td>\n",
       "      <td>CHEBI:18420</td>\n",
       "      <td>263</td>\n",
       "      <td>MKIRDAYTIVTCPGRNFVTLKIVTESGTHGIGDATLNGREMAVAAY...</td>\n",
       "    </tr>\n",
       "  </tbody>\n",
       "</table>\n",
       "</div>"
      ],
      "text/plain": [
       "       id     ChEBI-ID  Position  \\\n",
       "0  Q8INK9  CHEBI:29105       157   \n",
       "1  Q8INK9  CHEBI:29105        96   \n",
       "2  Q8INK9  CHEBI:29105        93   \n",
       "3  Q8INK9  CHEBI:29105       154   \n",
       "4  Q1QT89  CHEBI:18420       263   \n",
       "\n",
       "                                            sequence  \n",
       "0  MFALSARHALRRTRIFAIPRFFADSRQDSDNPDKRYSGPAATMDNK...  \n",
       "1  MFALSARHALRRTRIFAIPRFFADSRQDSDNPDKRYSGPAATMDNK...  \n",
       "2  MFALSARHALRRTRIFAIPRFFADSRQDSDNPDKRYSGPAATMDNK...  \n",
       "3  MFALSARHALRRTRIFAIPRFFADSRQDSDNPDKRYSGPAATMDNK...  \n",
       "4  MKIRDAYTIVTCPGRNFVTLKIVTESGTHGIGDATLNGREMAVAAY...  "
      ]
     },
     "execution_count": 70,
     "metadata": {},
     "output_type": "execute_result"
    }
   ],
   "source": [
    "pos_train_df0 = pd.merge(pos_train_tsv, pos_train_fasta, left_on='Accession', right_on='id')\n",
    "pos_train_df0 = pos_train_df0[['id','ChEBI-ID','Position','sequence']]\n",
    "pos_train_df0.head()"
   ]
  },
  {
   "cell_type": "code",
   "execution_count": 71,
   "id": "b6396ac3",
   "metadata": {},
   "outputs": [
    {
     "data": {
      "text/html": [
       "<div>\n",
       "<style scoped>\n",
       "    .dataframe tbody tr th:only-of-type {\n",
       "        vertical-align: middle;\n",
       "    }\n",
       "\n",
       "    .dataframe tbody tr th {\n",
       "        vertical-align: top;\n",
       "    }\n",
       "\n",
       "    .dataframe thead th {\n",
       "        text-align: right;\n",
       "    }\n",
       "</style>\n",
       "<table border=\"1\" class=\"dataframe\">\n",
       "  <thead>\n",
       "    <tr style=\"text-align: right;\">\n",
       "      <th></th>\n",
       "      <th>id</th>\n",
       "      <th>ChEBI-ID</th>\n",
       "      <th>Position</th>\n",
       "      <th>sequence</th>\n",
       "      <th>binding_amino_acid</th>\n",
       "    </tr>\n",
       "  </thead>\n",
       "  <tbody>\n",
       "    <tr>\n",
       "      <th>0</th>\n",
       "      <td>Q8INK9</td>\n",
       "      <td>CHEBI:29105</td>\n",
       "      <td>157</td>\n",
       "      <td>MFALSARHALRRTRIFAIPRFFADSRQDSDNPDKRYSGPAATMDNK...</td>\n",
       "      <td>C</td>\n",
       "    </tr>\n",
       "    <tr>\n",
       "      <th>1</th>\n",
       "      <td>Q8INK9</td>\n",
       "      <td>CHEBI:29105</td>\n",
       "      <td>96</td>\n",
       "      <td>MFALSARHALRRTRIFAIPRFFADSRQDSDNPDKRYSGPAATMDNK...</td>\n",
       "      <td>C</td>\n",
       "    </tr>\n",
       "    <tr>\n",
       "      <th>2</th>\n",
       "      <td>Q8INK9</td>\n",
       "      <td>CHEBI:29105</td>\n",
       "      <td>93</td>\n",
       "      <td>MFALSARHALRRTRIFAIPRFFADSRQDSDNPDKRYSGPAATMDNK...</td>\n",
       "      <td>C</td>\n",
       "    </tr>\n",
       "    <tr>\n",
       "      <th>3</th>\n",
       "      <td>Q8INK9</td>\n",
       "      <td>CHEBI:29105</td>\n",
       "      <td>154</td>\n",
       "      <td>MFALSARHALRRTRIFAIPRFFADSRQDSDNPDKRYSGPAATMDNK...</td>\n",
       "      <td>C</td>\n",
       "    </tr>\n",
       "    <tr>\n",
       "      <th>4</th>\n",
       "      <td>Q1QT89</td>\n",
       "      <td>CHEBI:18420</td>\n",
       "      <td>263</td>\n",
       "      <td>MKIRDAYTIVTCPGRNFVTLKIVTESGTHGIGDATLNGREMAVAAY...</td>\n",
       "      <td>E</td>\n",
       "    </tr>\n",
       "  </tbody>\n",
       "</table>\n",
       "</div>"
      ],
      "text/plain": [
       "       id     ChEBI-ID  Position  \\\n",
       "0  Q8INK9  CHEBI:29105       157   \n",
       "1  Q8INK9  CHEBI:29105        96   \n",
       "2  Q8INK9  CHEBI:29105        93   \n",
       "3  Q8INK9  CHEBI:29105       154   \n",
       "4  Q1QT89  CHEBI:18420       263   \n",
       "\n",
       "                                            sequence binding_amino_acid  \n",
       "0  MFALSARHALRRTRIFAIPRFFADSRQDSDNPDKRYSGPAATMDNK...                  C  \n",
       "1  MFALSARHALRRTRIFAIPRFFADSRQDSDNPDKRYSGPAATMDNK...                  C  \n",
       "2  MFALSARHALRRTRIFAIPRFFADSRQDSDNPDKRYSGPAATMDNK...                  C  \n",
       "3  MFALSARHALRRTRIFAIPRFFADSRQDSDNPDKRYSGPAATMDNK...                  C  \n",
       "4  MKIRDAYTIVTCPGRNFVTLKIVTESGTHGIGDATLNGREMAVAAY...                  E  "
      ]
     },
     "execution_count": 71,
     "metadata": {},
     "output_type": "execute_result"
    }
   ],
   "source": [
    "# function to determine the amino acid that the binding happened at\n",
    "pos_train_df0['binding_amino_acid'] = pos_train_df0.apply(\n",
    "    lambda row: row.sequence[row.Position-1] , axis=1)\n",
    "\n",
    "# function to determine the \n",
    "pos_train_df0.head()"
   ]
  },
  {
   "cell_type": "code",
   "execution_count": 72,
   "id": "0c6cd1dd",
   "metadata": {},
   "outputs": [
    {
     "data": {
      "text/html": [
       "<div>\n",
       "<style scoped>\n",
       "    .dataframe tbody tr th:only-of-type {\n",
       "        vertical-align: middle;\n",
       "    }\n",
       "\n",
       "    .dataframe tbody tr th {\n",
       "        vertical-align: top;\n",
       "    }\n",
       "\n",
       "    .dataframe thead th {\n",
       "        text-align: right;\n",
       "    }\n",
       "</style>\n",
       "<table border=\"1\" class=\"dataframe\">\n",
       "  <thead>\n",
       "    <tr style=\"text-align: right;\">\n",
       "      <th></th>\n",
       "      <th>ChEBI-ID</th>\n",
       "      <th>Name</th>\n",
       "    </tr>\n",
       "  </thead>\n",
       "  <tbody>\n",
       "    <tr>\n",
       "      <th>0</th>\n",
       "      <td>CHEBI:48775</td>\n",
       "      <td>Cd(2+)</td>\n",
       "    </tr>\n",
       "    <tr>\n",
       "      <th>1</th>\n",
       "      <td>CHEBI:29108</td>\n",
       "      <td>Ca(2+)</td>\n",
       "    </tr>\n",
       "    <tr>\n",
       "      <th>2</th>\n",
       "      <td>CHEBI:48828</td>\n",
       "      <td>Co(2+)</td>\n",
       "    </tr>\n",
       "    <tr>\n",
       "      <th>3</th>\n",
       "      <td>CHEBI:49415</td>\n",
       "      <td>Co(3+)</td>\n",
       "    </tr>\n",
       "    <tr>\n",
       "      <th>4</th>\n",
       "      <td>CHEBI:23378</td>\n",
       "      <td>Cu cation</td>\n",
       "    </tr>\n",
       "  </tbody>\n",
       "</table>\n",
       "</div>"
      ],
      "text/plain": [
       "      ChEBI-ID       Name\n",
       "0  CHEBI:48775     Cd(2+)\n",
       "1  CHEBI:29108     Ca(2+)\n",
       "2  CHEBI:48828     Co(2+)\n",
       "3  CHEBI:49415     Co(3+)\n",
       "4  CHEBI:23378  Cu cation"
      ]
     },
     "execution_count": 72,
     "metadata": {},
     "output_type": "execute_result"
    }
   ],
   "source": [
    "chebi_id_df = pd.read_csv(db_path+'/ChEBI-IDs_for_metal_binding.tsv', sep='\\t', header=0)\n",
    "chebi_id_df = chebi_id_df[['ChEBI-ID','Name']]\n",
    "chebi_id_df.head()"
   ]
  },
  {
   "cell_type": "code",
   "execution_count": 73,
   "id": "0a308ef2",
   "metadata": {},
   "outputs": [
    {
     "data": {
      "text/html": [
       "<div>\n",
       "<style scoped>\n",
       "    .dataframe tbody tr th:only-of-type {\n",
       "        vertical-align: middle;\n",
       "    }\n",
       "\n",
       "    .dataframe tbody tr th {\n",
       "        vertical-align: top;\n",
       "    }\n",
       "\n",
       "    .dataframe thead th {\n",
       "        text-align: right;\n",
       "    }\n",
       "</style>\n",
       "<table border=\"1\" class=\"dataframe\">\n",
       "  <thead>\n",
       "    <tr style=\"text-align: right;\">\n",
       "      <th></th>\n",
       "      <th>id</th>\n",
       "      <th>metal_name</th>\n",
       "      <th>Position</th>\n",
       "      <th>binding_amino_acid</th>\n",
       "      <th>sequence</th>\n",
       "    </tr>\n",
       "  </thead>\n",
       "  <tbody>\n",
       "    <tr>\n",
       "      <th>0</th>\n",
       "      <td>Q8INK9</td>\n",
       "      <td>Zn(2+)</td>\n",
       "      <td>157</td>\n",
       "      <td>C</td>\n",
       "      <td>MFALSARHALRRTRIFAIPRFFADSRQDSDNPDKRYSGPAATMDNK...</td>\n",
       "    </tr>\n",
       "    <tr>\n",
       "      <th>1</th>\n",
       "      <td>Q8INK9</td>\n",
       "      <td>Zn(2+)</td>\n",
       "      <td>96</td>\n",
       "      <td>C</td>\n",
       "      <td>MFALSARHALRRTRIFAIPRFFADSRQDSDNPDKRYSGPAATMDNK...</td>\n",
       "    </tr>\n",
       "    <tr>\n",
       "      <th>2</th>\n",
       "      <td>Q8INK9</td>\n",
       "      <td>Zn(2+)</td>\n",
       "      <td>93</td>\n",
       "      <td>C</td>\n",
       "      <td>MFALSARHALRRTRIFAIPRFFADSRQDSDNPDKRYSGPAATMDNK...</td>\n",
       "    </tr>\n",
       "    <tr>\n",
       "      <th>3</th>\n",
       "      <td>Q8INK9</td>\n",
       "      <td>Zn(2+)</td>\n",
       "      <td>154</td>\n",
       "      <td>C</td>\n",
       "      <td>MFALSARHALRRTRIFAIPRFFADSRQDSDNPDKRYSGPAATMDNK...</td>\n",
       "    </tr>\n",
       "    <tr>\n",
       "      <th>4</th>\n",
       "      <td>P07327</td>\n",
       "      <td>Zn(2+)</td>\n",
       "      <td>101</td>\n",
       "      <td>C</td>\n",
       "      <td>MSTAGKVIKCKAAVLWELKKPFSIEEVEVAPPKAHEVRIKMVAVGI...</td>\n",
       "    </tr>\n",
       "  </tbody>\n",
       "</table>\n",
       "</div>"
      ],
      "text/plain": [
       "       id metal_name  Position binding_amino_acid  \\\n",
       "0  Q8INK9     Zn(2+)       157                  C   \n",
       "1  Q8INK9     Zn(2+)        96                  C   \n",
       "2  Q8INK9     Zn(2+)        93                  C   \n",
       "3  Q8INK9     Zn(2+)       154                  C   \n",
       "4  P07327     Zn(2+)       101                  C   \n",
       "\n",
       "                                            sequence  \n",
       "0  MFALSARHALRRTRIFAIPRFFADSRQDSDNPDKRYSGPAATMDNK...  \n",
       "1  MFALSARHALRRTRIFAIPRFFADSRQDSDNPDKRYSGPAATMDNK...  \n",
       "2  MFALSARHALRRTRIFAIPRFFADSRQDSDNPDKRYSGPAATMDNK...  \n",
       "3  MFALSARHALRRTRIFAIPRFFADSRQDSDNPDKRYSGPAATMDNK...  \n",
       "4  MSTAGKVIKCKAAVLWELKKPFSIEEVEVAPPKAHEVRIKMVAVGI...  "
      ]
     },
     "execution_count": 73,
     "metadata": {},
     "output_type": "execute_result"
    }
   ],
   "source": [
    "pos_train_df1 = pd.merge(pos_train_df0, chebi_id_df, left_on='ChEBI-ID', right_on='ChEBI-ID')\n",
    "pos_train_df1 = pos_train_df1[['id','Name','Position', 'binding_amino_acid','sequence']]\n",
    "pos_train_df1 = pos_train_df1.rename(columns={\"Name\": \"metal_name\"})\n",
    "pos_train_df1.head()"
   ]
  },
  {
   "cell_type": "code",
   "execution_count": 74,
   "id": "e99ef504",
   "metadata": {},
   "outputs": [
    {
     "data": {
      "text/plain": [
       "count    18043.000000\n",
       "mean       287.125644\n",
       "std        422.697156\n",
       "min          1.000000\n",
       "25%         88.000000\n",
       "50%        187.000000\n",
       "75%        334.000000\n",
       "max       5038.000000\n",
       "Name: Position, dtype: float64"
      ]
     },
     "execution_count": 74,
     "metadata": {},
     "output_type": "execute_result"
    }
   ],
   "source": [
    "pos_train_df1['Position'].describe()"
   ]
  },
  {
   "cell_type": "code",
   "execution_count": 75,
   "id": "e965f5b5",
   "metadata": {},
   "outputs": [],
   "source": [
    "# Getting part of the sequence before and after the binding amino acids with an offset of 3 amino acids\n",
    "def window_3(Position,sequence):\n",
    "    if Position <= 3:\n",
    "        return sequence[:Position+3]\n",
    "    if Position >= 5035:\n",
    "        return sequence[Position-4:]\n",
    "    else:\n",
    "        return sequence[Position-4:Position+3]\n",
    "\n",
    "pos_train_df1[\"window_3\"] = pos_train_df1.apply(lambda row: window_3(row[\"Position\"],row[\"sequence\"]),\n",
    "\n",
    "axis=1)"
   ]
  },
  {
   "cell_type": "code",
   "execution_count": 76,
   "id": "c041e502",
   "metadata": {},
   "outputs": [
    {
     "data": {
      "text/plain": [
       "count       18043\n",
       "unique      10291\n",
       "top       FLGDYVD\n",
       "freq           18\n",
       "Name: window_3, dtype: object"
      ]
     },
     "execution_count": 76,
     "metadata": {},
     "output_type": "execute_result"
    }
   ],
   "source": [
    "pos_train_df1['window_3'].describe()"
   ]
  },
  {
   "cell_type": "code",
   "execution_count": 77,
   "id": "ac6d8adb",
   "metadata": {},
   "outputs": [],
   "source": [
    "# Getting part of the sequence before and after the binding amino acids with an offset of 10 amino acids\n",
    "def window_10(Position,sequence):\n",
    "    if Position <= 10:\n",
    "        return sequence[:Position+10]\n",
    "    if Position >= 5028:\n",
    "        return sequence[Position-11:]\n",
    "    else:\n",
    "        return sequence[Position-11:Position+10]\n",
    "\n",
    "pos_train_df1[\"window_10\"] = pos_train_df1.apply(lambda row: window_10(row[\"Position\"],row[\"sequence\"]),\n",
    "\n",
    "axis=1)"
   ]
  },
  {
   "cell_type": "code",
   "execution_count": 82,
   "id": "265a9335",
   "metadata": {},
   "outputs": [
    {
     "data": {
      "text/html": [
       "<div>\n",
       "<style scoped>\n",
       "    .dataframe tbody tr th:only-of-type {\n",
       "        vertical-align: middle;\n",
       "    }\n",
       "\n",
       "    .dataframe tbody tr th {\n",
       "        vertical-align: top;\n",
       "    }\n",
       "\n",
       "    .dataframe thead th {\n",
       "        text-align: right;\n",
       "    }\n",
       "</style>\n",
       "<table border=\"1\" class=\"dataframe\">\n",
       "  <thead>\n",
       "    <tr style=\"text-align: right;\">\n",
       "      <th></th>\n",
       "      <th>id</th>\n",
       "      <th>metal_name</th>\n",
       "      <th>Position</th>\n",
       "      <th>binding_amino_acid</th>\n",
       "      <th>sequence</th>\n",
       "      <th>window_3</th>\n",
       "      <th>window_10</th>\n",
       "    </tr>\n",
       "  </thead>\n",
       "  <tbody>\n",
       "    <tr>\n",
       "      <th>0</th>\n",
       "      <td>Q8INK9</td>\n",
       "      <td>Zn(2+)</td>\n",
       "      <td>157</td>\n",
       "      <td>C</td>\n",
       "      <td>MFALSARHALRRTRIFAIPRFFADSRQDSDNPDKRYSGPAATMDNK...</td>\n",
       "      <td>CARCNAH</td>\n",
       "      <td>RIRTEVRCARCNAHMGHVFED</td>\n",
       "    </tr>\n",
       "    <tr>\n",
       "      <th>1</th>\n",
       "      <td>Q8INK9</td>\n",
       "      <td>Zn(2+)</td>\n",
       "      <td>96</td>\n",
       "      <td>C</td>\n",
       "      <td>MFALSARHALRRTRIFAIPRFFADSRQDSDNPDKRYSGPAATMDNK...</td>\n",
       "      <td>CIVCHQD</td>\n",
       "      <td>YEKGVYQCIVCHQDLFSSETK</td>\n",
       "    </tr>\n",
       "    <tr>\n",
       "      <th>2</th>\n",
       "      <td>Q8INK9</td>\n",
       "      <td>Zn(2+)</td>\n",
       "      <td>93</td>\n",
       "      <td>C</td>\n",
       "      <td>MFALSARHALRRTRIFAIPRFFADSRQDSDNPDKRYSGPAATMDNK...</td>\n",
       "      <td>VYQCIVC</td>\n",
       "      <td>NKHYEKGVYQCIVCHQDLFSS</td>\n",
       "    </tr>\n",
       "    <tr>\n",
       "      <th>3</th>\n",
       "      <td>Q8INK9</td>\n",
       "      <td>Zn(2+)</td>\n",
       "      <td>154</td>\n",
       "      <td>C</td>\n",
       "      <td>MFALSARHALRRTRIFAIPRFFADSRQDSDNPDKRYSGPAATMDNK...</td>\n",
       "      <td>EVRCARC</td>\n",
       "      <td>HPERIRTEVRCARCNAHMGHV</td>\n",
       "    </tr>\n",
       "    <tr>\n",
       "      <th>4</th>\n",
       "      <td>P07327</td>\n",
       "      <td>Zn(2+)</td>\n",
       "      <td>101</td>\n",
       "      <td>C</td>\n",
       "      <td>MSTAGKVIKCKAAVLWELKKPFSIEEVEVAPPKAHEVRIKMVAVGI...</td>\n",
       "      <td>CGKCRIC</td>\n",
       "      <td>IPLAIPQCGKCRICKNPESNY</td>\n",
       "    </tr>\n",
       "  </tbody>\n",
       "</table>\n",
       "</div>"
      ],
      "text/plain": [
       "       id metal_name  Position binding_amino_acid  \\\n",
       "0  Q8INK9     Zn(2+)       157                  C   \n",
       "1  Q8INK9     Zn(2+)        96                  C   \n",
       "2  Q8INK9     Zn(2+)        93                  C   \n",
       "3  Q8INK9     Zn(2+)       154                  C   \n",
       "4  P07327     Zn(2+)       101                  C   \n",
       "\n",
       "                                            sequence window_3  \\\n",
       "0  MFALSARHALRRTRIFAIPRFFADSRQDSDNPDKRYSGPAATMDNK...  CARCNAH   \n",
       "1  MFALSARHALRRTRIFAIPRFFADSRQDSDNPDKRYSGPAATMDNK...  CIVCHQD   \n",
       "2  MFALSARHALRRTRIFAIPRFFADSRQDSDNPDKRYSGPAATMDNK...  VYQCIVC   \n",
       "3  MFALSARHALRRTRIFAIPRFFADSRQDSDNPDKRYSGPAATMDNK...  EVRCARC   \n",
       "4  MSTAGKVIKCKAAVLWELKKPFSIEEVEVAPPKAHEVRIKMVAVGI...  CGKCRIC   \n",
       "\n",
       "               window_10  \n",
       "0  RIRTEVRCARCNAHMGHVFED  \n",
       "1  YEKGVYQCIVCHQDLFSSETK  \n",
       "2  NKHYEKGVYQCIVCHQDLFSS  \n",
       "3  HPERIRTEVRCARCNAHMGHV  \n",
       "4  IPLAIPQCGKCRICKNPESNY  "
      ]
     },
     "execution_count": 82,
     "metadata": {},
     "output_type": "execute_result"
    }
   ],
   "source": [
    "pos_train_df1.head()"
   ]
  },
  {
   "cell_type": "code",
   "execution_count": 83,
   "id": "f6f07450",
   "metadata": {},
   "outputs": [],
   "source": [
    "pos_train_df1 = pos_train_df1.drop(columns=['sequence'])"
   ]
  },
  {
   "cell_type": "code",
   "execution_count": 84,
   "id": "968d7dd7",
   "metadata": {},
   "outputs": [
    {
     "data": {
      "text/plain": [
       "Zn(2+)                     32.078923\n",
       "Ca(2+)                     26.425761\n",
       "Mg(2+)                     11.860555\n",
       "Mn(2+)                      6.296070\n",
       "Fe cation                   5.093388\n",
       "[4Fe-4S] cluster            4.904949\n",
       "a divalent metal cation     4.090229\n",
       "Cu cation                   3.109239\n",
       "[2Fe-2S] cluster            1.928726\n",
       "K(+)                        0.903397\n",
       "Na(+)                       0.787009\n",
       "Fe(3+)                      0.753755\n",
       "Ni(2+)                      0.426758\n",
       "Co(2+)                      0.277116\n",
       "Cd(2+)                      0.277116\n",
       "[3Fe-4S] cluster            0.199523\n",
       "Cu(2+)                      0.182896\n",
       "Cu(+)                       0.149643\n",
       "Fe(2+)                      0.121931\n",
       "[Ni-4Fe-4S] cluster         0.066508\n",
       "[Ni-4Fe-5S] cluster         0.033254\n",
       "Co(3+)                      0.022169\n",
       "Hg(2+)                      0.011085\n",
       "Name: metal_name, dtype: float64"
      ]
     },
     "execution_count": 84,
     "metadata": {},
     "output_type": "execute_result"
    }
   ],
   "source": [
    "# percentage of occurences of Metals\n",
    "pos_train_df1['metal_name'].value_counts(normalize=True)*100"
   ]
  },
  {
   "cell_type": "markdown",
   "id": "14149b48",
   "metadata": {},
   "source": [
    "The following metals are the most frequant to bind with the following percentages (%):\n",
    "\n",
    "Zn(2+)   :                  32.078923\n",
    "\n",
    "Ca(2+)   :                  26.425761\n",
    "\n",
    "Mg(2+)   :                  11.860555\n",
    "\n",
    "Mn(2+)   :                   6.296070\n",
    "\n"
   ]
  },
  {
   "cell_type": "code",
   "execution_count": 85,
   "id": "e1d53ee3",
   "metadata": {},
   "outputs": [
    {
     "data": {
      "text/plain": [
       "O31526    88\n",
       "O31527    76\n",
       "E0VIU9    64\n",
       "Q868M7    62\n",
       "Q51817    56\n",
       "Q46085    52\n",
       "Q10583    48\n",
       "P03956    48\n",
       "Q9Y4X5    48\n",
       "Q9NQV7    48\n",
       "Name: id, dtype: int64"
      ]
     },
     "execution_count": 85,
     "metadata": {},
     "output_type": "execute_result"
    }
   ],
   "source": [
    "# top 10 protiens with highest number of binding sites\n",
    "pos_train_df1['id'].value_counts().head(10)"
   ]
  },
  {
   "cell_type": "code",
   "execution_count": 86,
   "id": "057a88e2",
   "metadata": {},
   "outputs": [
    {
     "data": {
      "text/plain": [
       "C    25.295128\n",
       "D    24.402815\n",
       "H    21.675996\n",
       "E    11.733082\n",
       "N     3.896248\n",
       "T     1.873303\n",
       "G     1.828964\n",
       "S     1.629441\n",
       "Y     1.380037\n",
       "K     0.986532\n",
       "Q     0.842432\n",
       "V     0.775924\n",
       "I     0.714959\n",
       "L     0.709416\n",
       "A     0.631824\n",
       "R     0.460012\n",
       "F     0.415674\n",
       "M     0.387962\n",
       "W     0.238320\n",
       "P     0.121931\n",
       "Name: binding_amino_acid, dtype: float64"
      ]
     },
     "execution_count": 86,
     "metadata": {},
     "output_type": "execute_result"
    }
   ],
   "source": [
    "#  frequancy percentage of having a binding site according to amino acid\n",
    "pos_train_df1['binding_amino_acid'].value_counts(normalize=True)*100"
   ]
  },
  {
   "cell_type": "code",
   "execution_count": 87,
   "id": "14b9badf",
   "metadata": {},
   "outputs": [
    {
     "data": {
      "text/plain": [
       "<AxesSubplot:xlabel='binding_amino_acid', ylabel='count'>"
      ]
     },
     "execution_count": 87,
     "metadata": {},
     "output_type": "execute_result"
    },
    {
     "data": {
      "image/png": "[encoded data removed]",
      "text/plain": [
       "<Figure size 842.4x595.44 with 1 Axes>"
      ]
     },
     "metadata": {},
     "output_type": "display_data"
    }
   ],
   "source": [
    "# plot for the previous counts\n",
    "sns.countplot(x='binding_amino_acid', data=pos_train_df1)"
   ]
  },
  {
   "cell_type": "markdown",
   "id": "f1e4db9b",
   "metadata": {},
   "source": [
    "The following amino acid are more likely to bind to metals than other amino acids with the following percentages:\n",
    "\n",
    "C:    25.295128\n",
    "\n",
    "D:    24.402815\n",
    "\n",
    "H:    21.675996\n",
    "\n",
    "E:    11.733082\n"
   ]
  },
  {
   "cell_type": "code",
   "execution_count": 90,
   "id": "ebbfa93b",
   "metadata": {},
   "outputs": [
    {
     "data": {
      "text/html": [
       "<div>\n",
       "<style scoped>\n",
       "    .dataframe tbody tr th:only-of-type {\n",
       "        vertical-align: middle;\n",
       "    }\n",
       "\n",
       "    .dataframe tbody tr th {\n",
       "        vertical-align: top;\n",
       "    }\n",
       "\n",
       "    .dataframe thead th {\n",
       "        text-align: right;\n",
       "    }\n",
       "</style>\n",
       "<table border=\"1\" class=\"dataframe\">\n",
       "  <thead>\n",
       "    <tr style=\"text-align: right;\">\n",
       "      <th></th>\n",
       "      <th>binding_amino_acid</th>\n",
       "      <th>metal_name</th>\n",
       "      <th>metal_counts</th>\n",
       "    </tr>\n",
       "  </thead>\n",
       "  <tbody>\n",
       "    <tr>\n",
       "      <th>0</th>\n",
       "      <td>C</td>\n",
       "      <td>Zn(2+)</td>\n",
       "      <td>2771</td>\n",
       "    </tr>\n",
       "    <tr>\n",
       "      <th>1</th>\n",
       "      <td>H</td>\n",
       "      <td>Zn(2+)</td>\n",
       "      <td>2034</td>\n",
       "    </tr>\n",
       "    <tr>\n",
       "      <th>2</th>\n",
       "      <td>D</td>\n",
       "      <td>Ca(2+)</td>\n",
       "      <td>1952</td>\n",
       "    </tr>\n",
       "    <tr>\n",
       "      <th>3</th>\n",
       "      <td>D</td>\n",
       "      <td>Mg(2+)</td>\n",
       "      <td>1058</td>\n",
       "    </tr>\n",
       "    <tr>\n",
       "      <th>4</th>\n",
       "      <td>C</td>\n",
       "      <td>[4Fe-4S] cluster</td>\n",
       "      <td>870</td>\n",
       "    </tr>\n",
       "    <tr>\n",
       "      <th>...</th>\n",
       "      <td>...</td>\n",
       "      <td>...</td>\n",
       "      <td>...</td>\n",
       "    </tr>\n",
       "    <tr>\n",
       "      <th>189</th>\n",
       "      <td>I</td>\n",
       "      <td>[4Fe-4S] cluster</td>\n",
       "      <td>1</td>\n",
       "    </tr>\n",
       "    <tr>\n",
       "      <th>190</th>\n",
       "      <td>Q</td>\n",
       "      <td>K(+)</td>\n",
       "      <td>1</td>\n",
       "    </tr>\n",
       "    <tr>\n",
       "      <th>191</th>\n",
       "      <td>T</td>\n",
       "      <td>Ni(2+)</td>\n",
       "      <td>1</td>\n",
       "    </tr>\n",
       "    <tr>\n",
       "      <th>192</th>\n",
       "      <td>K</td>\n",
       "      <td>Na(+)</td>\n",
       "      <td>1</td>\n",
       "    </tr>\n",
       "    <tr>\n",
       "      <th>193</th>\n",
       "      <td>Q</td>\n",
       "      <td>Ni(2+)</td>\n",
       "      <td>1</td>\n",
       "    </tr>\n",
       "  </tbody>\n",
       "</table>\n",
       "<p>194 rows × 3 columns</p>\n",
       "</div>"
      ],
      "text/plain": [
       "    binding_amino_acid        metal_name  metal_counts\n",
       "0                    C            Zn(2+)          2771\n",
       "1                    H            Zn(2+)          2034\n",
       "2                    D            Ca(2+)          1952\n",
       "3                    D            Mg(2+)          1058\n",
       "4                    C  [4Fe-4S] cluster           870\n",
       "..                 ...               ...           ...\n",
       "189                  I  [4Fe-4S] cluster             1\n",
       "190                  Q              K(+)             1\n",
       "191                  T            Ni(2+)             1\n",
       "192                  K             Na(+)             1\n",
       "193                  Q            Ni(2+)             1\n",
       "\n",
       "[194 rows x 3 columns]"
      ]
     },
     "execution_count": 90,
     "metadata": {},
     "output_type": "execute_result"
    }
   ],
   "source": [
    "# exploring the top binding metals for (C, D, H, E) amino acids with highest\n",
    "list_amino_acids = []\n",
    "temp = pos_train_df1[~pos_train_df1.binding_amino_acid.isin(list_amino_acids)]\n",
    "\n",
    "#pos_train_df1[pos_train_df1['Binding Amino Acid'] in ]\n",
    "temp = temp.groupby(['binding_amino_acid', 'metal_name']).count().sort_values(['id'], ascending=False)\n",
    "temp = temp.drop(['Position','window_3','window_10'], axis=1).rename(columns={'id':'metal_counts'}).reset_index()\n",
    "#temp['metal_counts'] = temp['metal_counts'] /temp['metal_counts'].abs().max()\n",
    "temp"
   ]
  },
  {
   "cell_type": "code",
   "execution_count": 91,
   "id": "3fa7f487",
   "metadata": {},
   "outputs": [
    {
     "data": {
      "image/png": "[encoded data removed]",
      "text/plain": [
       "<Figure size 842.4x595.44 with 2 Axes>"
      ]
     },
     "metadata": {},
     "output_type": "display_data"
    }
   ],
   "source": [
    "heatmap = temp.pivot(\"binding_amino_acid\", \"metal_name\", \"metal_counts\")\n",
    "ax = sns.heatmap(heatmap , cmap=\"YlGnBu\")"
   ]
  },
  {
   "cell_type": "markdown",
   "id": "4f29fc4c",
   "metadata": {},
   "source": [
    "The previous heatmap combines the correlation and how likely you find a certian amino acid binding to a certian metal. There are some interesting insights coming out of this heat map:\n",
    "* Metals: Ca(2+), K(+), Mg(2+), Mn(+), Na(+), and Zn(2+) can bind to more than 90 percent of the different amino acids. \n",
    "* Metal: Ca(2+) binds to all amino acids with a higher frequancy on (D, E).\n",
    "* Amino Acid: C binds to all metals on the spectrum with more frequancy with Zn(2+) and [Ni-4Fe-4S] cluster.\n",
    "* Metal Hg(2+) only binds to amino acid C\n"
   ]
  },
  {
   "cell_type": "code",
   "execution_count": 93,
   "id": "d12131de",
   "metadata": {},
   "outputs": [
    {
     "data": {
      "text/html": [
       "<div>\n",
       "<style scoped>\n",
       "    .dataframe tbody tr th:only-of-type {\n",
       "        vertical-align: middle;\n",
       "    }\n",
       "\n",
       "    .dataframe tbody tr th {\n",
       "        vertical-align: top;\n",
       "    }\n",
       "\n",
       "    .dataframe thead th {\n",
       "        text-align: right;\n",
       "    }\n",
       "</style>\n",
       "<table border=\"1\" class=\"dataframe\">\n",
       "  <thead>\n",
       "    <tr style=\"text-align: right;\">\n",
       "      <th></th>\n",
       "      <th>id</th>\n",
       "      <th>metal_name</th>\n",
       "      <th>Position</th>\n",
       "      <th>binding_amino_acid</th>\n",
       "      <th>window_3</th>\n",
       "      <th>window_10</th>\n",
       "    </tr>\n",
       "  </thead>\n",
       "  <tbody>\n",
       "    <tr>\n",
       "      <th>0</th>\n",
       "      <td>Q8INK9</td>\n",
       "      <td>Zn(2+)</td>\n",
       "      <td>157</td>\n",
       "      <td>C</td>\n",
       "      <td>CARCNAH</td>\n",
       "      <td>RIRTEVRCARCNAHMGHVFED</td>\n",
       "    </tr>\n",
       "    <tr>\n",
       "      <th>1</th>\n",
       "      <td>Q8INK9</td>\n",
       "      <td>Zn(2+)</td>\n",
       "      <td>96</td>\n",
       "      <td>C</td>\n",
       "      <td>CIVCHQD</td>\n",
       "      <td>YEKGVYQCIVCHQDLFSSETK</td>\n",
       "    </tr>\n",
       "    <tr>\n",
       "      <th>2</th>\n",
       "      <td>Q8INK9</td>\n",
       "      <td>Zn(2+)</td>\n",
       "      <td>93</td>\n",
       "      <td>C</td>\n",
       "      <td>VYQCIVC</td>\n",
       "      <td>NKHYEKGVYQCIVCHQDLFSS</td>\n",
       "    </tr>\n",
       "    <tr>\n",
       "      <th>3</th>\n",
       "      <td>Q8INK9</td>\n",
       "      <td>Zn(2+)</td>\n",
       "      <td>154</td>\n",
       "      <td>C</td>\n",
       "      <td>EVRCARC</td>\n",
       "      <td>HPERIRTEVRCARCNAHMGHV</td>\n",
       "    </tr>\n",
       "    <tr>\n",
       "      <th>4</th>\n",
       "      <td>P07327</td>\n",
       "      <td>Zn(2+)</td>\n",
       "      <td>101</td>\n",
       "      <td>C</td>\n",
       "      <td>CGKCRIC</td>\n",
       "      <td>IPLAIPQCGKCRICKNPESNY</td>\n",
       "    </tr>\n",
       "  </tbody>\n",
       "</table>\n",
       "</div>"
      ],
      "text/plain": [
       "       id metal_name  Position binding_amino_acid window_3  \\\n",
       "0  Q8INK9     Zn(2+)       157                  C  CARCNAH   \n",
       "1  Q8INK9     Zn(2+)        96                  C  CIVCHQD   \n",
       "2  Q8INK9     Zn(2+)        93                  C  VYQCIVC   \n",
       "3  Q8INK9     Zn(2+)       154                  C  EVRCARC   \n",
       "4  P07327     Zn(2+)       101                  C  CGKCRIC   \n",
       "\n",
       "               window_10  \n",
       "0  RIRTEVRCARCNAHMGHVFED  \n",
       "1  YEKGVYQCIVCHQDLFSSETK  \n",
       "2  NKHYEKGVYQCIVCHQDLFSS  \n",
       "3  HPERIRTEVRCARCNAHMGHV  \n",
       "4  IPLAIPQCGKCRICKNPESNY  "
      ]
     },
     "execution_count": 93,
     "metadata": {},
     "output_type": "execute_result"
    }
   ],
   "source": [
    "pos_train_df1.head()"
   ]
  }
 ],
 "metadata": {
  "kernelspec": {
   "display_name": "Python 3 (ipykernel)",
   "language": "python",
   "name": "python3"
  },
  "language_info": {
   "codemirror_mode": {
    "name": "ipython",
    "version": 3
   },
   "file_extension": ".py",
   "mimetype": "text/x-python",
   "name": "python",
   "nbconvert_exporter": "python",
   "pygments_lexer": "ipython3",
   "version": "3.8.13"
  }
 },
 "nbformat": 4,
 "nbformat_minor": 5
}
